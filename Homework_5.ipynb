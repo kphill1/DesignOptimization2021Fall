{
 "cells": [
  {
   "cell_type": "markdown",
   "id": "southern-district",
   "metadata": {},
   "source": [
    "### Problem 1\n",
    "\n",
    "(100 points) Consider the following problem. \n",
    "\n",
    "$$\n",
    "\\begin{eqnarray*}\n",
    "\\hbox{min } f&=& x_1^2+(x_2-3)^2\\\\\n",
    "\\hbox{s.t. } g_1&=& x_2^2-2x_1\\leq 0\\\\\n",
    "             g_2&=& (x_2-1)^2+5x_1-15\\leq 0\\\\\n",
    "\\end{eqnarray*}\n",
    "$$\n",
    "\n",
    "Implement an SQP algorithm with line search to solve this problem, starting from\n",
    "${\\bf x}_0=(1,1)^T$. Incorporate the QP subproblem. Use BFGS\n",
    "approximation for the Hessian of the Lagrangian. Use the\n",
    "merit function and Armijo Line Search to find the step size."
   ]
  },
  {
   "cell_type": "code",
   "execution_count": 34,
   "id": "943a18f0",
   "metadata": {},
   "outputs": [
    {
     "data": {
      "text/plain": [
       "array([[0, 0]])"
      ]
     },
     "execution_count": 34,
     "metadata": {},
     "output_type": "execute_result"
    }
   ],
   "source": [
    "import math\n",
    "import numpy as np\n",
    "# Initialize x_0\n",
    "x = [[1],[1]]\n",
    "# Initialize mu_0\n",
    "mu_0  = [[0],[0]]\n",
    "# Initialize step number\n",
    "k = 0\n",
    "# Set end condition\n",
    "e = 1e-3\n",
    "# Initialize w_0\n",
    "W_0 = [[1,0],[0,1]]\n",
    "#grad_f = [[2*x_1],[2*(x_2-3)]]\n",
    "#hess_f = [[2,0],[0,2]]\n",
    "#grad_l =[[2*x_1-2*mu_1+5*mu_2],[2*(x_2-3)+2*mu_1*x_2+2*mu_2*(x_2-1)],[x_2^2-2*x_1],[((x_2-1)^2+5*x_1-15)]]\n",
    "# Eq for A matrix\n",
    "A = lambda x_2: [[-2,2*x_2],[15,2*(x_2-1)]]\n",
    "A(sum(x[1]))\n",
    "g = lambda x_1,x_2: [[(x_2)**2-(2*x_1)],[(x_2-1)**2+5*x_1-15]]\n",
    "g(sum(x[0]),sum(x[1]))\n",
    "fx = lambda x_1,x_2: [[2*x_1],[2*(x_2-3)]]\n",
    "fx(sum(x[0]),sum(x[1]))\n",
    "Lx = lambda fx,mu,gx: fx + np.matmul(mu,A)\n",
    "#Lx(fx(sum(x[0]),sum(x[1])),np.transpose(mu_0),A(sum(x[1])))\n",
    "np.transpose(mu_0)"
   ]
  }
 ],
 "metadata": {
  "kernelspec": {
   "display_name": "Python 3",
   "language": "python",
   "name": "python3"
  },
  "language_info": {
   "codemirror_mode": {
    "name": "ipython",
    "version": 3
   },
   "file_extension": ".py",
   "mimetype": "text/x-python",
   "name": "python",
   "nbconvert_exporter": "python",
   "pygments_lexer": "ipython3",
   "version": "3.8.8"
  }
 },
 "nbformat": 4,
 "nbformat_minor": 5
}
