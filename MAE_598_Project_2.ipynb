{
 "cells": [
  {
   "cell_type": "markdown",
   "id": "higher-bulgarian",
   "metadata": {},
   "source": [
    "# Things to check during your analysis and optimization \n",
    "## What are your design variables, constraints, and objectives?\n",
    "My design variables are the disk's outer diamter and disk's thickness. I chose these as my variables because through doing research on brake disks, these factors were how different brakes were distinguished. I chose my constraint as the disk's inner diameter because during my research I found it was uncommon for the brake's inner diamter to be listed so I chose to just keep it the same as what was given in the example. The objectives that I am \n",
    "## What are the potential trade-offs between your objectives?\n",
    "The first natural frequency of the brake disk is inversely related to the maximum stress in the brake disk.\n",
    "When vol inc: stress inc, freq dec, and temp dec\n",
    "When vol dec: stress dec, freq inc, and temp inc\n",
    "## Are your variables continuous? Or are they discrete/integer?\n",
    "## Do you have analytical objective/constraint functions? And are they differentiable?\n",
    "## Based on the above answers, what optimization methods will you choose?\n",
    "## Perform a sensitivity analysis and comment on the importance of your variables? Also, do you observe monotonicity (i.e., the objective always goes up or down with a variable)?\n",
    "## Compare your optimal design against the initial one (e.g., see the following comparison on the brake disc design) AND comment on whether the optimal design is reasonable.\n",
    "## Insert figure for single-objective vs multi-objetive such as pareto curve or pareto fronteir"
   ]
  },
  {
   "cell_type": "code",
   "execution_count": null,
   "id": "1fcdec6a",
   "metadata": {},
   "outputs": [],
   "source": []
  },
  {
   "cell_type": "code",
   "execution_count": null,
   "id": "01bdec4c",
   "metadata": {},
   "outputs": [],
   "source": []
  }
 ],
 "metadata": {
  "kernelspec": {
   "display_name": "Python 3",
   "language": "python",
   "name": "python3"
  },
  "language_info": {
   "codemirror_mode": {
    "name": "ipython",
    "version": 3
   },
   "file_extension": ".py",
   "mimetype": "text/x-python",
   "name": "python",
   "nbconvert_exporter": "python",
   "pygments_lexer": "ipython3",
   "version": "3.8.8"
  },
  "pycharm": {
   "stem_cell": {
    "cell_type": "raw",
    "metadata": {
     "collapsed": false
    },
    "source": []
   }
  }
 },
 "nbformat": 4,
 "nbformat_minor": 5
}
