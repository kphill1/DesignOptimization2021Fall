{
 "cells": [
  {
   "cell_type": "markdown",
   "id": "higher-bulgarian",
   "metadata": {},
   "source": [
    "# Things to check during your analysis and optimization <a name=\"checklist\"></a>\n",
    "## What are your design variables, constraints, and objectives?\n",
    "## What are the potential trade-offs between your objectives?\n",
    "* Are your variables continuous? Or are they discrete/integer?\n",
    "* Do you have analytical objective/constraint functions? And are they differentiable?\n",
    "* Based on the above answers, what optimization methods will you choose?\n",
    "* Perform a sensitivity analysis and comment on the importance of your variables? \n",
    "Also, do you observe monotonicity (i.e., the objective always goes up or down with a variable)?\n",
    "* Compare your optimal design against the initial one (e.g., see\n",
    "the following comparison on the brake disc design) AND comment on whether the optimal design is reasonable."
   ]
  },
  {
   "cell_type": "code",
   "execution_count": null,
   "id": "c81df7b2",
   "metadata": {},
   "outputs": [],
   "source": []
  }
 ],
 "metadata": {
  "kernelspec": {
   "display_name": "Python 3",
   "language": "python",
   "name": "python3"
  },
  "language_info": {
   "codemirror_mode": {
    "name": "ipython",
    "version": 3
   },
   "file_extension": ".py",
   "mimetype": "text/x-python",
   "name": "python",
   "nbconvert_exporter": "python",
   "pygments_lexer": "ipython3",
   "version": "3.8.8"
  },
  "pycharm": {
   "stem_cell": {
    "cell_type": "raw",
    "metadata": {
     "collapsed": false
    },
    "source": []
   }
  }
 },
 "nbformat": 4,
 "nbformat_minor": 5
}
